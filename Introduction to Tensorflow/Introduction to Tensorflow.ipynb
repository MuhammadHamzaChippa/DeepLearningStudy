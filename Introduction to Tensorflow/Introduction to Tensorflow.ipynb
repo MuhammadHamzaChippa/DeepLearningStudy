{
 "cells": [
  {
   "cell_type": "code",
   "execution_count": 1,
   "metadata": {},
   "outputs": [
    {
     "name": "stderr",
     "output_type": "stream",
     "text": [
      "Using TensorFlow backend.\n"
     ]
    }
   ],
   "source": [
    "import pandas as pd \n",
    "import numpy as np \n",
    "import matplotlib.pyplot as plt \n",
    "import tensorflow as tf \n",
    "import keras"
   ]
  },
  {
   "cell_type": "code",
   "execution_count": 8,
   "metadata": {},
   "outputs": [
    {
     "data": {
      "text/html": [
       "<div>\n",
       "<style scoped>\n",
       "    .dataframe tbody tr th:only-of-type {\n",
       "        vertical-align: middle;\n",
       "    }\n",
       "\n",
       "    .dataframe tbody tr th {\n",
       "        vertical-align: top;\n",
       "    }\n",
       "\n",
       "    .dataframe thead th {\n",
       "        text-align: right;\n",
       "    }\n",
       "</style>\n",
       "<table border=\"1\" class=\"dataframe\">\n",
       "  <thead>\n",
       "    <tr style=\"text-align: right;\">\n",
       "      <th></th>\n",
       "      <th>area</th>\n",
       "      <th>bathrooms</th>\n",
       "    </tr>\n",
       "  </thead>\n",
       "  <tbody>\n",
       "    <tr>\n",
       "      <th>0</th>\n",
       "      <td>2104.0</td>\n",
       "      <td>3.0</td>\n",
       "    </tr>\n",
       "    <tr>\n",
       "      <th>1</th>\n",
       "      <td>1600.0</td>\n",
       "      <td>3.0</td>\n",
       "    </tr>\n",
       "    <tr>\n",
       "      <th>2</th>\n",
       "      <td>2400.0</td>\n",
       "      <td>3.0</td>\n",
       "    </tr>\n",
       "    <tr>\n",
       "      <th>3</th>\n",
       "      <td>1416.0</td>\n",
       "      <td>2.0</td>\n",
       "    </tr>\n",
       "    <tr>\n",
       "      <th>4</th>\n",
       "      <td>3000.0</td>\n",
       "      <td>4.0</td>\n",
       "    </tr>\n",
       "    <tr>\n",
       "      <th>5</th>\n",
       "      <td>1985.0</td>\n",
       "      <td>4.0</td>\n",
       "    </tr>\n",
       "    <tr>\n",
       "      <th>6</th>\n",
       "      <td>1534.0</td>\n",
       "      <td>3.0</td>\n",
       "    </tr>\n",
       "    <tr>\n",
       "      <th>7</th>\n",
       "      <td>1427.0</td>\n",
       "      <td>3.0</td>\n",
       "    </tr>\n",
       "    <tr>\n",
       "      <th>8</th>\n",
       "      <td>1380.0</td>\n",
       "      <td>3.0</td>\n",
       "    </tr>\n",
       "    <tr>\n",
       "      <th>9</th>\n",
       "      <td>1494.0</td>\n",
       "      <td>3.0</td>\n",
       "    </tr>\n",
       "  </tbody>\n",
       "</table>\n",
       "</div>"
      ],
      "text/plain": [
       "     area  bathrooms\n",
       "0  2104.0        3.0\n",
       "1  1600.0        3.0\n",
       "2  2400.0        3.0\n",
       "3  1416.0        2.0\n",
       "4  3000.0        4.0\n",
       "5  1985.0        4.0\n",
       "6  1534.0        3.0\n",
       "7  1427.0        3.0\n",
       "8  1380.0        3.0\n",
       "9  1494.0        3.0"
      ]
     },
     "execution_count": 8,
     "metadata": {},
     "output_type": "execute_result"
    }
   ],
   "source": [
    "#load data \n",
    "dataframe = pd.read_csv(\"data.csv\") #dataframe \n",
    "dataframe = dataframe.drop(['index','price','sq_price'],axis = 1)\n",
    "dataframe = dataframe[0:10] #using only 10 rows\n",
    "dataframe"
   ]
  },
  {
   "cell_type": "code",
   "execution_count": 11,
   "metadata": {},
   "outputs": [
    {
     "data": {
      "text/html": [
       "<div>\n",
       "<style scoped>\n",
       "    .dataframe tbody tr th:only-of-type {\n",
       "        vertical-align: middle;\n",
       "    }\n",
       "\n",
       "    .dataframe tbody tr th {\n",
       "        vertical-align: top;\n",
       "    }\n",
       "\n",
       "    .dataframe thead th {\n",
       "        text-align: right;\n",
       "    }\n",
       "</style>\n",
       "<table border=\"1\" class=\"dataframe\">\n",
       "  <thead>\n",
       "    <tr style=\"text-align: right;\">\n",
       "      <th></th>\n",
       "      <th>area</th>\n",
       "      <th>bathrooms</th>\n",
       "      <th>y1</th>\n",
       "      <th>y2</th>\n",
       "    </tr>\n",
       "  </thead>\n",
       "  <tbody>\n",
       "    <tr>\n",
       "      <th>0</th>\n",
       "      <td>2104.0</td>\n",
       "      <td>3.0</td>\n",
       "      <td>1</td>\n",
       "      <td>0</td>\n",
       "    </tr>\n",
       "    <tr>\n",
       "      <th>1</th>\n",
       "      <td>1600.0</td>\n",
       "      <td>3.0</td>\n",
       "      <td>1</td>\n",
       "      <td>0</td>\n",
       "    </tr>\n",
       "    <tr>\n",
       "      <th>2</th>\n",
       "      <td>2400.0</td>\n",
       "      <td>3.0</td>\n",
       "      <td>1</td>\n",
       "      <td>0</td>\n",
       "    </tr>\n",
       "    <tr>\n",
       "      <th>3</th>\n",
       "      <td>1416.0</td>\n",
       "      <td>2.0</td>\n",
       "      <td>0</td>\n",
       "      <td>1</td>\n",
       "    </tr>\n",
       "    <tr>\n",
       "      <th>4</th>\n",
       "      <td>3000.0</td>\n",
       "      <td>4.0</td>\n",
       "      <td>0</td>\n",
       "      <td>1</td>\n",
       "    </tr>\n",
       "    <tr>\n",
       "      <th>5</th>\n",
       "      <td>1985.0</td>\n",
       "      <td>4.0</td>\n",
       "      <td>1</td>\n",
       "      <td>0</td>\n",
       "    </tr>\n",
       "    <tr>\n",
       "      <th>6</th>\n",
       "      <td>1534.0</td>\n",
       "      <td>3.0</td>\n",
       "      <td>0</td>\n",
       "      <td>1</td>\n",
       "    </tr>\n",
       "    <tr>\n",
       "      <th>7</th>\n",
       "      <td>1427.0</td>\n",
       "      <td>3.0</td>\n",
       "      <td>1</td>\n",
       "      <td>0</td>\n",
       "    </tr>\n",
       "    <tr>\n",
       "      <th>8</th>\n",
       "      <td>1380.0</td>\n",
       "      <td>3.0</td>\n",
       "      <td>1</td>\n",
       "      <td>0</td>\n",
       "    </tr>\n",
       "    <tr>\n",
       "      <th>9</th>\n",
       "      <td>1494.0</td>\n",
       "      <td>3.0</td>\n",
       "      <td>1</td>\n",
       "      <td>0</td>\n",
       "    </tr>\n",
       "  </tbody>\n",
       "</table>\n",
       "</div>"
      ],
      "text/plain": [
       "     area  bathrooms  y1  y2\n",
       "0  2104.0        3.0   1   0\n",
       "1  1600.0        3.0   1   0\n",
       "2  2400.0        3.0   1   0\n",
       "3  1416.0        2.0   0   1\n",
       "4  3000.0        4.0   0   1\n",
       "5  1985.0        4.0   1   0\n",
       "6  1534.0        3.0   0   1\n",
       "7  1427.0        3.0   1   0\n",
       "8  1380.0        3.0   1   0\n",
       "9  1494.0        3.0   1   0"
      ]
     },
     "execution_count": 11,
     "metadata": {},
     "output_type": "execute_result"
    }
   ],
   "source": [
    "#add label \n",
    "#1 is good buy 0 is bad buy\n",
    "dataframe.loc[:,('y1')] = [1,1,1,0,0,1,0,1,1,1]\n",
    "dataframe.loc[:,('y2')] = dataframe['y1'] == 0 \n",
    "dataframe.loc[:,('y2')] = dataframe['y2'].astype(int) \n",
    "dataframe"
   ]
  },
  {
   "cell_type": "code",
   "execution_count": 18,
   "metadata": {},
   "outputs": [],
   "source": [
    "#prepare data for tensorflow \n",
    "#convert features into tensors \n",
    "inputX = dataframe.loc[:, ['area', 'bathrooms']].to_numpy()\n",
    "inputY = dataframe.loc[:, [\"y1\", \"y2\"]].to_numpy()"
   ]
  },
  {
   "cell_type": "code",
   "execution_count": 19,
   "metadata": {},
   "outputs": [
    {
     "data": {
      "text/plain": [
       "array([[2.104e+03, 3.000e+00],\n",
       "       [1.600e+03, 3.000e+00],\n",
       "       [2.400e+03, 3.000e+00],\n",
       "       [1.416e+03, 2.000e+00],\n",
       "       [3.000e+03, 4.000e+00],\n",
       "       [1.985e+03, 4.000e+00],\n",
       "       [1.534e+03, 3.000e+00],\n",
       "       [1.427e+03, 3.000e+00],\n",
       "       [1.380e+03, 3.000e+00],\n",
       "       [1.494e+03, 3.000e+00]])"
      ]
     },
     "execution_count": 19,
     "metadata": {},
     "output_type": "execute_result"
    }
   ],
   "source": [
    "inputX"
   ]
  },
  {
   "cell_type": "code",
   "execution_count": 20,
   "metadata": {},
   "outputs": [
    {
     "data": {
      "text/plain": [
       "array([[1, 0],\n",
       "       [1, 0],\n",
       "       [1, 0],\n",
       "       [0, 1],\n",
       "       [0, 1],\n",
       "       [1, 0],\n",
       "       [0, 1],\n",
       "       [1, 0],\n",
       "       [1, 0],\n",
       "       [1, 0]], dtype=int64)"
      ]
     },
     "execution_count": 20,
     "metadata": {},
     "output_type": "execute_result"
    }
   ],
   "source": [
    "inputY"
   ]
  },
  {
   "cell_type": "code",
   "execution_count": 35,
   "metadata": {},
   "outputs": [],
   "source": [
    "#write our hyperparameters \n",
    "learning_rate = 0.000001\n",
    "training_epochs = 2000\n",
    "display_steps = 50 \n",
    "n_samples = inputY.size"
   ]
  },
  {
   "cell_type": "code",
   "execution_count": 36,
   "metadata": {},
   "outputs": [],
   "source": [
    "import tensorflow.compat.v1 as tf\n",
    "tf.disable_v2_behavior()"
   ]
  },
  {
   "cell_type": "code",
   "execution_count": 37,
   "metadata": {},
   "outputs": [],
   "source": [
    "#creating the computation graph also called as Neural Network \n",
    "#for feature input tensors , none means any number of examples \n",
    "#placeholders are gateaways for data into our computation graph \n",
    "x = tf.placeholder(tf.float32 , [None,2])\n",
    "\n",
    "#create weights\n",
    "#2x2 float weights , that will be keep updating thorughout the process\n",
    "w = tf.Variable(tf.zeros([2,2]))\n",
    "\n",
    "#adding biases \n",
    "b = tf.Variable(tf.zeros([2]))\n",
    "\n",
    "# multiply our weights by our inputs \n",
    "# y = wx + b \n",
    "y_values = tf.add(tf.matmul(x,w),b)\n",
    "\n",
    "#implementing softmax function which is our activation function \n",
    "y = tf.nn.softmax(y_values)\n",
    "\n",
    "y_= tf.placeholder(tf.float32, [None,2])"
   ]
  },
  {
   "cell_type": "code",
   "execution_count": 38,
   "metadata": {},
   "outputs": [],
   "source": [
    "#perform training \n",
    "#creating our cost function which is mean squared error\n",
    "cost = tf.reduce_sum(tf.pow(y_ - y,2))/(2*n_samples)\n",
    "\n",
    "#gradient descent \n",
    "optimizer = tf.train.GradientDescentOptimizer(learning_rate).minimize(cost)"
   ]
  },
  {
   "cell_type": "code",
   "execution_count": 40,
   "metadata": {},
   "outputs": [
    {
     "name": "stdout",
     "output_type": "stream",
     "text": [
      "WARNING:tensorflow:From C:\\Users\\muham\\anaconda3\\envs\\tensorflow-cpu\\lib\\site-packages\\tensorflow_core\\python\\util\\tf_should_use.py:235: initialize_all_variables (from tensorflow.python.ops.variables) is deprecated and will be removed after 2017-03-02.\n",
      "Instructions for updating:\n",
      "Use `tf.global_variables_initializer` instead.\n"
     ]
    }
   ],
   "source": [
    "#initialize variables and tensorflow sessions\n",
    "init = tf.initialize_all_variables()\n",
    "sess = tf.Session()\n",
    "sess.run(init)"
   ]
  },
  {
   "cell_type": "code",
   "execution_count": 45,
   "metadata": {},
   "outputs": [
    {
     "name": "stdout",
     "output_type": "stream",
     "text": [
      "Training step: 0000 cost= 0.109537281\n",
      "Training step: 0050 cost= 0.109537199\n",
      "Training step: 0100 cost= 0.109537147\n",
      "Training step: 0150 cost= 0.109537080\n",
      "Training step: 0200 cost= 0.109537005\n",
      "Training step: 0250 cost= 0.109536938\n",
      "Training step: 0300 cost= 0.109536879\n",
      "Training step: 0350 cost= 0.109536804\n",
      "Training step: 0400 cost= 0.109536745\n",
      "Training step: 0450 cost= 0.109536670\n",
      "Training step: 0500 cost= 0.109536603\n",
      "Training step: 0550 cost= 0.109536529\n",
      "Training step: 0600 cost= 0.109536462\n",
      "Training step: 0650 cost= 0.109536387\n",
      "Training step: 0700 cost= 0.109536313\n",
      "Training step: 0750 cost= 0.109536268\n",
      "Training step: 0800 cost= 0.109536186\n",
      "Training step: 0850 cost= 0.109536126\n",
      "Training step: 0900 cost= 0.109536052\n",
      "Training step: 0950 cost= 0.109535985\n",
      "Training step: 1000 cost= 0.109535910\n",
      "Training step: 1050 cost= 0.109535851\n",
      "Training step: 1100 cost= 0.109535791\n",
      "Training step: 1150 cost= 0.109535716\n",
      "Training step: 1200 cost= 0.109535649\n",
      "Training step: 1250 cost= 0.109535575\n",
      "Training step: 1300 cost= 0.109535508\n",
      "Training step: 1350 cost= 0.109535433\n",
      "Training step: 1400 cost= 0.109535374\n",
      "Training step: 1450 cost= 0.109535299\n",
      "Training step: 1500 cost= 0.109535240\n",
      "Training step: 1550 cost= 0.109535173\n",
      "Training step: 1600 cost= 0.109535098\n",
      "Training step: 1650 cost= 0.109535031\n",
      "Training step: 1700 cost= 0.109534957\n",
      "Training step: 1750 cost= 0.109534882\n",
      "Training step: 1800 cost= 0.109534815\n",
      "Training step: 1850 cost= 0.109534755\n",
      "Training step: 1900 cost= 0.109534696\n",
      "Training step: 1950 cost= 0.109534621\n",
      "Optimization Finished!\n",
      "Training cost= 0.109534554 W= [[ 0.00021405 -0.00021405]\n",
      " [ 0.00010217 -0.00010217]] b= [ 2.3706722e-05 -2.3706732e-05] \n",
      "\n"
     ]
    }
   ],
   "source": [
    "#training \n",
    "for i in range(training_epochs):\n",
    "    sess.run(optimizer, feed_dict={x:inputX , y_:inputY})\n",
    "    if i % display_steps == 0:\n",
    "        cc = sess.run(cost,feed_dict={x:inputX , y_:inputY})\n",
    "        print (\"Training step:\", '%04d' % (i), \"cost=\", \"{:.9f}\".format(cc))\n",
    "\n",
    "print (\"Optimization Finished!\")\n",
    "training_cost = sess.run(cost, feed_dict={x: inputX, y_: inputY})\n",
    "print (\"Training cost=\", training_cost, \"W=\", sess.run(w), \"b=\", sess.run(b), '\\n')"
   ]
  },
  {
   "cell_type": "code",
   "execution_count": 46,
   "metadata": {},
   "outputs": [
    {
     "data": {
      "text/plain": [
       "array([[0.7112309 , 0.2887692 ],\n",
       "       [0.66498965, 0.33501032],\n",
       "       [0.73654455, 0.2634555 ],\n",
       "       [0.64717317, 0.3528268 ],\n",
       "       [0.7833244 , 0.21667556],\n",
       "       [0.7006994 , 0.29930058],\n",
       "       [0.6586662 , 0.3413338 ],\n",
       "       [0.6482943 , 0.3517057 ],\n",
       "       [0.6436931 , 0.3563069 ],\n",
       "       [0.65480596, 0.345194  ]], dtype=float32)"
      ]
     },
     "execution_count": 46,
     "metadata": {},
     "output_type": "execute_result"
    }
   ],
   "source": [
    "#predictions \n",
    "sess.run(y, feed_dict={x: inputX })\n"
   ]
  },
  {
   "cell_type": "code",
   "execution_count": null,
   "metadata": {},
   "outputs": [],
   "source": []
  }
 ],
 "metadata": {
  "kernelspec": {
   "display_name": "Python 3",
   "language": "python",
   "name": "python3"
  },
  "language_info": {
   "codemirror_mode": {
    "name": "ipython",
    "version": 3
   },
   "file_extension": ".py",
   "mimetype": "text/x-python",
   "name": "python",
   "nbconvert_exporter": "python",
   "pygments_lexer": "ipython3",
   "version": "3.7.7"
  }
 },
 "nbformat": 4,
 "nbformat_minor": 4
}
